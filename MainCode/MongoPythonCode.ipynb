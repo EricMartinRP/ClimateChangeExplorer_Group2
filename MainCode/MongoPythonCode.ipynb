{
 "cells": [
  {
   "cell_type": "code",
   "execution_count": null,
   "metadata": {},
   "outputs": [],
   "source": [
    "#import dependencies\n",
    "import pandas as pd\n",
    "import numpy as np\n",
    "from pymongo import MongoClient\n",
    "import json"
   ]
  },
  {
   "cell_type": "code",
   "execution_count": null,
   "metadata": {},
   "outputs": [],
   "source": [
    "# Connect to MongoDB\n",
    "client = MongoClient('mongodb://localhost:27017/')\n",
    "db = client['Group_Project_3']\n",
    "collection = db['Group_Project_3']\n"
   ]
  },
  {
   "cell_type": "code",
   "execution_count": null,
   "metadata": {},
   "outputs": [],
   "source": [
    "\n",
    "# Fetch data from MongoDB\n",
    "data = collection.find()\n",
    "\n",
    "# Convert data to a format that can be used in JavaScript\n",
    "formatted_data = []\n",
    "for item in data:\n",
    "    formatted_data.append({\n",
    "        'state': item['location'],\n",
    "        'precip': item['precipMM'],\n",
    "        'max_temp': item['maxtempC'],\n",
    "        'min_temp': item['mintempC'],\n",
    "        'wind_speed': item['windspeedKmph'],\n",
    "    })"
   ]
  }
 ],
 "metadata": {
  "kernelspec": {
   "display_name": "base",
   "language": "python",
   "name": "python3"
  },
  "language_info": {
   "codemirror_mode": {
    "name": "ipython",
    "version": 3
   },
   "file_extension": ".py",
   "mimetype": "text/x-python",
   "name": "python",
   "nbconvert_exporter": "python",
   "pygments_lexer": "ipython3",
   "version": "3.9.13"
  },
  "orig_nbformat": 4
 },
 "nbformat": 4,
 "nbformat_minor": 2
}
