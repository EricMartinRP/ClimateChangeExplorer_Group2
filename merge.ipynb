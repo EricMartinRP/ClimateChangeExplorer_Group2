{
 "cells": [
  {
   "cell_type": "code",
   "execution_count": null,
   "metadata": {},
   "outputs": [],
   "source": [
    "import os\n",
    "import csv, glob\n",
    "\n",
    "Dir = r\"D:\\ClimateChangeExplorer_Group2\\StateWeatherFolder\"\n",
    "Avg_Dir = r\"D:\\ClimateChangeExplorer_Group2\"\n",
    "\n",
    "csv_file_list = glob.glob(os.path.join(Dir, '*.csv')) # returns the file list\n",
    "print (csv_file_list)\n",
    "\n",
    "with open(os.path.join(Avg_Dir, 'Output.csv'), 'w', newline='') as f:\n",
    "    wf = csv.writer(f, lineterminator='\\n')\n",
    "\n",
    "    for files in csv_file_list:\n",
    "        with open(files, 'r') as r: \n",
    "            next(r)                   # SKIP HEADERS\n",
    "            rr = csv.reader(r)\n",
    "            for row in rr:\n",
    "                wf.writerow(row)"
   ]
  }
 ],
 "metadata": {
  "language_info": {
   "name": "python"
  },
  "orig_nbformat": 4
 },
 "nbformat": 4,
 "nbformat_minor": 2
}
