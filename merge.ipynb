{
 "cells": [
  {
   "cell_type": "code",
   "execution_count": 1,
   "metadata": {},
   "outputs": [
    {
     "name": "stdout",
     "output_type": "stream",
     "text": [
      "['D:\\\\ClimateChangeExplorer_Group2\\\\EricPlayground\\\\alabama.csv', 'D:\\\\ClimateChangeExplorer_Group2\\\\EricPlayground\\\\alaska.csv', 'D:\\\\ClimateChangeExplorer_Group2\\\\EricPlayground\\\\arizona.csv', 'D:\\\\ClimateChangeExplorer_Group2\\\\EricPlayground\\\\arkansas.csv', 'D:\\\\ClimateChangeExplorer_Group2\\\\EricPlayground\\\\california.csv', 'D:\\\\ClimateChangeExplorer_Group2\\\\EricPlayground\\\\colorado.csv', 'D:\\\\ClimateChangeExplorer_Group2\\\\EricPlayground\\\\connecticut.csv', 'D:\\\\ClimateChangeExplorer_Group2\\\\EricPlayground\\\\delaware.csv', 'D:\\\\ClimateChangeExplorer_Group2\\\\EricPlayground\\\\florida.csv', 'D:\\\\ClimateChangeExplorer_Group2\\\\EricPlayground\\\\georgia.csv', 'D:\\\\ClimateChangeExplorer_Group2\\\\EricPlayground\\\\hawaii.csv', 'D:\\\\ClimateChangeExplorer_Group2\\\\EricPlayground\\\\idaho.csv', 'D:\\\\ClimateChangeExplorer_Group2\\\\EricPlayground\\\\illinois.csv', 'D:\\\\ClimateChangeExplorer_Group2\\\\EricPlayground\\\\indiana.csv', 'D:\\\\ClimateChangeExplorer_Group2\\\\EricPlayground\\\\iowa.csv', 'D:\\\\ClimateChangeExplorer_Group2\\\\EricPlayground\\\\kansas.csv', 'D:\\\\ClimateChangeExplorer_Group2\\\\EricPlayground\\\\kentucky.csv', 'D:\\\\ClimateChangeExplorer_Group2\\\\EricPlayground\\\\louisiana.csv', 'D:\\\\ClimateChangeExplorer_Group2\\\\EricPlayground\\\\maine.csv', 'D:\\\\ClimateChangeExplorer_Group2\\\\EricPlayground\\\\maryland.csv', 'D:\\\\ClimateChangeExplorer_Group2\\\\EricPlayground\\\\massachusetts.csv', 'D:\\\\ClimateChangeExplorer_Group2\\\\EricPlayground\\\\michigan.csv', 'D:\\\\ClimateChangeExplorer_Group2\\\\EricPlayground\\\\minnesota.csv', 'D:\\\\ClimateChangeExplorer_Group2\\\\EricPlayground\\\\mississippi.csv', 'D:\\\\ClimateChangeExplorer_Group2\\\\EricPlayground\\\\missouri.csv', 'D:\\\\ClimateChangeExplorer_Group2\\\\EricPlayground\\\\montana.csv', 'D:\\\\ClimateChangeExplorer_Group2\\\\EricPlayground\\\\nebraska.csv', 'D:\\\\ClimateChangeExplorer_Group2\\\\EricPlayground\\\\nevada.csv', 'D:\\\\ClimateChangeExplorer_Group2\\\\EricPlayground\\\\new%20hampshire.csv', 'D:\\\\ClimateChangeExplorer_Group2\\\\EricPlayground\\\\new%20jersey.csv', 'D:\\\\ClimateChangeExplorer_Group2\\\\EricPlayground\\\\new%20mexico.csv', 'D:\\\\ClimateChangeExplorer_Group2\\\\EricPlayground\\\\new%20york.csv', 'D:\\\\ClimateChangeExplorer_Group2\\\\EricPlayground\\\\north%20carolina.csv', 'D:\\\\ClimateChangeExplorer_Group2\\\\EricPlayground\\\\north%20dakota.csv', 'D:\\\\ClimateChangeExplorer_Group2\\\\EricPlayground\\\\ohio.csv', 'D:\\\\ClimateChangeExplorer_Group2\\\\EricPlayground\\\\oklahoma.csv', 'D:\\\\ClimateChangeExplorer_Group2\\\\EricPlayground\\\\oregon.csv', 'D:\\\\ClimateChangeExplorer_Group2\\\\EricPlayground\\\\pennsylvania.csv', 'D:\\\\ClimateChangeExplorer_Group2\\\\EricPlayground\\\\rhode%20island.csv', 'D:\\\\ClimateChangeExplorer_Group2\\\\EricPlayground\\\\south%20carolina.csv', 'D:\\\\ClimateChangeExplorer_Group2\\\\EricPlayground\\\\south%20dakota.csv', 'D:\\\\ClimateChangeExplorer_Group2\\\\EricPlayground\\\\tennessee.csv', 'D:\\\\ClimateChangeExplorer_Group2\\\\EricPlayground\\\\texas.csv', 'D:\\\\ClimateChangeExplorer_Group2\\\\EricPlayground\\\\utah.csv', 'D:\\\\ClimateChangeExplorer_Group2\\\\EricPlayground\\\\vermont.csv', 'D:\\\\ClimateChangeExplorer_Group2\\\\EricPlayground\\\\virginia.csv', 'D:\\\\ClimateChangeExplorer_Group2\\\\EricPlayground\\\\washington.csv', 'D:\\\\ClimateChangeExplorer_Group2\\\\EricPlayground\\\\west%20virginia.csv', 'D:\\\\ClimateChangeExplorer_Group2\\\\EricPlayground\\\\wisconsin.csv', 'D:\\\\ClimateChangeExplorer_Group2\\\\EricPlayground\\\\wyoming.csv']\n"
     ]
    }
   ],
   "source": [
    "import os\n",
    "import csv, glob\n",
    "\n",
    "Dir = r\"D:\\ClimateChangeExplorer_Group2\\StateWeatherFolder\"\n",
    "Avg_Dir = r\"D:\\ClimateChangeExplorer_Group2\"\n",
    "\n",
    "csv_file_list = glob.glob(os.path.join(Dir, '*.csv')) # returns the file list\n",
    "print (csv_file_list)\n",
    "\n",
    "with open(os.path.join(Avg_Dir, 'Output.csv'), 'w', newline='') as f:\n",
    "    wf = csv.writer(f, lineterminator='\\n')\n",
    "\n",
    "    for files in csv_file_list:\n",
    "        with open(files, 'r') as r: \n",
    "            next(r)                   # SKIP HEADERS\n",
    "            rr = csv.reader(r)\n",
    "            for row in rr:\n",
    "                wf.writerow(row)"
   ]
  }
 ],
 "metadata": {
  "kernelspec": {
   "display_name": "base",
   "language": "python",
   "name": "python3"
  },
  "language_info": {
   "codemirror_mode": {
    "name": "ipython",
    "version": 3
   },
   "file_extension": ".py",
   "mimetype": "text/x-python",
   "name": "python",
   "nbconvert_exporter": "python",
   "pygments_lexer": "ipython3",
   "version": "3.10.9"
  },
  "orig_nbformat": 4
 },
 "nbformat": 4,
 "nbformat_minor": 2
}
